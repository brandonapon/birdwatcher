{
 "cells": [
  {
   "cell_type": "code",
   "execution_count": 1,
   "metadata": {},
   "outputs": [],
   "source": [
    "# THANK YOU, VIVEK, FOR THIS BEAUTIFUL CODE. \n",
    "# Original code by Vivek. Modified by Brandon "
   ]
  },
  {
   "cell_type": "code",
   "execution_count": 2,
   "metadata": {},
   "outputs": [],
   "source": [
    "import pandas as pd\n",
    "import matplotlib.pyplot as plt\n",
    "from datetime import datetime\n",
    "from math import sin, cos, sqrt, atan2"
   ]
  },
  {
   "cell_type": "code",
   "execution_count": 3,
   "metadata": {},
   "outputs": [],
   "source": [
    "%matplotlib inline"
   ]
  },
  {
   "cell_type": "code",
   "execution_count": 4,
   "metadata": {},
   "outputs": [],
   "source": [
    "df = pd.read_csv(\"../../api/bird_unofficial_api/csv_output.csv\")"
   ]
  },
  {
   "cell_type": "code",
   "execution_count": 5,
   "metadata": {},
   "outputs": [],
   "source": [
    "# Preprocessing and adding date columns\n",
    "days = ['mon', 'tue', 'wed', 'thu', 'fri', 'sat', 'sun']\n",
    "df['datetime'] = df['time_stamp'].apply(lambda x: datetime.fromtimestamp(x))\n",
    "df['date_string'] = df['datetime'].apply(lambda x: x.strftime('%Y-%m-%d'))\n",
    "df['week_day'] = df['datetime'].apply(lambda x: days[x.weekday()])"
   ]
  },
  {
   "cell_type": "code",
   "execution_count": 6,
   "metadata": {},
   "outputs": [
    {
     "data": {
      "text/html": [
       "<div>\n",
       "<style scoped>\n",
       "    .dataframe tbody tr th:only-of-type {\n",
       "        vertical-align: middle;\n",
       "    }\n",
       "\n",
       "    .dataframe tbody tr th {\n",
       "        vertical-align: top;\n",
       "    }\n",
       "\n",
       "    .dataframe thead th {\n",
       "        text-align: right;\n",
       "    }\n",
       "</style>\n",
       "<table border=\"1\" class=\"dataframe\">\n",
       "  <thead>\n",
       "    <tr style=\"text-align: right;\">\n",
       "      <th></th>\n",
       "      <th>id</th>\n",
       "      <th>latitude</th>\n",
       "      <th>longitude</th>\n",
       "      <th>battery_level</th>\n",
       "      <th>captive</th>\n",
       "      <th>time_stamp</th>\n",
       "      <th>datetime</th>\n",
       "      <th>date_string</th>\n",
       "      <th>week_day</th>\n",
       "    </tr>\n",
       "  </thead>\n",
       "  <tbody>\n",
       "    <tr>\n",
       "      <th>0</th>\n",
       "      <td>6787bc36-a67a-447c-923d-9803b0c70607</td>\n",
       "      <td>34.413387</td>\n",
       "      <td>-119.855317</td>\n",
       "      <td>93</td>\n",
       "      <td>False</td>\n",
       "      <td>1549498203</td>\n",
       "      <td>2019-02-06 16:10:03</td>\n",
       "      <td>2019-02-06</td>\n",
       "      <td>wed</td>\n",
       "    </tr>\n",
       "    <tr>\n",
       "      <th>1</th>\n",
       "      <td>ac581dd8-4bb7-41b8-a1af-848f0c82c9fa</td>\n",
       "      <td>34.413395</td>\n",
       "      <td>-119.855338</td>\n",
       "      <td>88</td>\n",
       "      <td>False</td>\n",
       "      <td>1549498203</td>\n",
       "      <td>2019-02-06 16:10:03</td>\n",
       "      <td>2019-02-06</td>\n",
       "      <td>wed</td>\n",
       "    </tr>\n",
       "    <tr>\n",
       "      <th>2</th>\n",
       "      <td>296a944c-b744-487c-91c8-94bc05d47c3c</td>\n",
       "      <td>34.413078</td>\n",
       "      <td>-119.854722</td>\n",
       "      <td>60</td>\n",
       "      <td>False</td>\n",
       "      <td>1549498203</td>\n",
       "      <td>2019-02-06 16:10:03</td>\n",
       "      <td>2019-02-06</td>\n",
       "      <td>wed</td>\n",
       "    </tr>\n",
       "    <tr>\n",
       "      <th>3</th>\n",
       "      <td>fd1859a9-8849-48e2-99ea-a76921a5a4c8</td>\n",
       "      <td>34.413685</td>\n",
       "      <td>-119.855472</td>\n",
       "      <td>88</td>\n",
       "      <td>False</td>\n",
       "      <td>1549498203</td>\n",
       "      <td>2019-02-06 16:10:03</td>\n",
       "      <td>2019-02-06</td>\n",
       "      <td>wed</td>\n",
       "    </tr>\n",
       "    <tr>\n",
       "      <th>4</th>\n",
       "      <td>c05fed3c-5da5-4fd9-8d63-be5127e920bc</td>\n",
       "      <td>34.412105</td>\n",
       "      <td>-119.855003</td>\n",
       "      <td>36</td>\n",
       "      <td>False</td>\n",
       "      <td>1549498203</td>\n",
       "      <td>2019-02-06 16:10:03</td>\n",
       "      <td>2019-02-06</td>\n",
       "      <td>wed</td>\n",
       "    </tr>\n",
       "  </tbody>\n",
       "</table>\n",
       "</div>"
      ],
      "text/plain": [
       "                                     id   latitude   longitude  battery_level  \\\n",
       "0  6787bc36-a67a-447c-923d-9803b0c70607  34.413387 -119.855317             93   \n",
       "1  ac581dd8-4bb7-41b8-a1af-848f0c82c9fa  34.413395 -119.855338             88   \n",
       "2  296a944c-b744-487c-91c8-94bc05d47c3c  34.413078 -119.854722             60   \n",
       "3  fd1859a9-8849-48e2-99ea-a76921a5a4c8  34.413685 -119.855472             88   \n",
       "4  c05fed3c-5da5-4fd9-8d63-be5127e920bc  34.412105 -119.855003             36   \n",
       "\n",
       "   captive  time_stamp            datetime date_string week_day  \n",
       "0    False  1549498203 2019-02-06 16:10:03  2019-02-06      wed  \n",
       "1    False  1549498203 2019-02-06 16:10:03  2019-02-06      wed  \n",
       "2    False  1549498203 2019-02-06 16:10:03  2019-02-06      wed  \n",
       "3    False  1549498203 2019-02-06 16:10:03  2019-02-06      wed  \n",
       "4    False  1549498203 2019-02-06 16:10:03  2019-02-06      wed  "
      ]
     },
     "execution_count": 6,
     "metadata": {},
     "output_type": "execute_result"
    }
   ],
   "source": [
    "df.head()"
   ]
  },
  {
   "cell_type": "code",
   "execution_count": 7,
   "metadata": {},
   "outputs": [
    {
     "data": {
      "text/plain": [
       "array(['2019-02-06', '2019-02-03', '2019-02-05', '2019-02-04',\n",
       "       '2019-02-01', '2019-01-27', '2019-01-25', '2019-01-28',\n",
       "       '2019-01-24', '2019-01-26', '2019-02-02', '2019-01-29',\n",
       "       '2019-01-30', '2019-01-31'], dtype=object)"
      ]
     },
     "execution_count": 7,
     "metadata": {},
     "output_type": "execute_result"
    }
   ],
   "source": [
    "df['date_string'].unique()"
   ]
  },
  {
   "cell_type": "code",
   "execution_count": 8,
   "metadata": {},
   "outputs": [],
   "source": [
    "def get_count_for_date(ds):\n",
    "    day_df = df[df['date_string'] == ds]\n",
    "    freq_df = day_df.groupby(pd.Grouper(key = 'datetime', freq='10min'))['id'].nunique()\n",
    "    freq_df.plot(figsize=(10,5))"
   ]
  },
  {
   "cell_type": "code",
   "execution_count": 9,
   "metadata": {},
   "outputs": [],
   "source": [
    "# Group data by date\n",
    "date_df = df.groupby('date_string')['id'].nunique()"
   ]
  },
  {
   "cell_type": "code",
   "execution_count": 10,
   "metadata": {},
   "outputs": [],
   "source": [
    "# Group data by week day\n",
    "week_day_df = df.groupby('week_day')['id'].nunique()\n",
    "week_day_df = week_day_df.reindex(index = days) #To have the same order as we define in days"
   ]
  },
  {
   "cell_type": "code",
   "execution_count": 11,
   "metadata": {},
   "outputs": [],
   "source": [
    "# Euclidean distance calculation (only roughly accurate for 10 min interval polling)\n",
    "# start and end are tuples of (lat, long)\n",
    "def distance(start, end):\n",
    "    R = 6373.0\n",
    "    dlon = end[1] - start[1]\n",
    "    dlat = end[0] - start[0]\n",
    "    a = (sin(dlat/2))**2 + cos(start[0]) * cos(end[0]) * (sin(dlon/2))**2\n",
    "    c = 2 * atan2(sqrt(a), sqrt(1-a))\n",
    "    distance = R * c\n",
    "    return distance*1000 #km -> meters"
   ]
  },
  {
   "cell_type": "code",
   "execution_count": 43,
   "metadata": {},
   "outputs": [],
   "source": [
    "# Return unique ids for given date\n",
    "def day_ids(ds):\n",
    "    day_df = df[df['date_string'] == ds]\n",
    "    day_df = day_df.reset_index()\n",
    "    unique_ids = pd.Series(day_df['id'].values).unique().tolist()\n",
    "    print (pd.Series(day_df.id).nunique())\n",
    "#     print (unique_ids)\n",
    "    return unique_ids"
   ]
  },
  {
   "cell_type": "code",
   "execution_count": 44,
   "metadata": {
    "scrolled": false
   },
   "outputs": [],
   "source": [
    "# Returns df for specific Bird for a given day\n",
    "def bird_data_by_day(ds, b_id):\n",
    "    day_df = df[df['date_string'] == ds]\n",
    "    day_df = day_df.reset_index()\n",
    "    bird_df = day_df[day_df['id'] == b_id]\n",
    "    return bird_df"
   ]
  },
  {
   "cell_type": "code",
   "execution_count": 45,
   "metadata": {},
   "outputs": [],
   "source": [
    "def plot_bird_battery(ds, b_id):\n",
    "    bird_df = bird_data_by_day(day, b_id)\n",
    "    bird_df = bird_df.sort_values(by='datetime')\n",
    "    bird_df = bird_df.reset_index(drop=True)\n",
    "    bird_df.plot(x='datetime', y='battery_level', figsize=(10,5))"
   ]
  },
  {
   "cell_type": "code",
   "execution_count": 49,
   "metadata": {},
   "outputs": [
    {
     "name": "stdout",
     "output_type": "stream",
     "text": [
      "185\n"
     ]
    }
   ],
   "source": [
    "day = '2019-02-03'\n",
    "unique_ids = day_ids(day)\n",
    "bird_df = bird_data_by_day(day, unique_ids[1])\n",
    "bird_df = bird_df.sort_values(by='datetime')\n",
    "bird_df = bird_df.reset_index(drop=True)\n",
    "bird_df['coordinates']= pd.Series(list(zip(bird_df.latitude, bird_df.longitude)))\n",
    "dist_list = []\n",
    "for i in range(len(bird_df.coordinates)):\n",
    "    if i == 0:\n",
    "        dist_list.append(0)\n",
    "    else:\n",
    "        dist_list.append(distance(bird_df.coordinates[i-1], bird_df.coordinates[i]))\n",
    "bird_df['distance_traveled'] = pd.Series(dist_list)\n",
    "# bird_df\n",
    "# bird_df.plot(x='datetime', y='distance_traveled', figsize=(10,5))\n",
    "# bird_df.plot(x='datetime', y='battery_level', figsize=(10,5))\n"
   ]
  },
  {
   "cell_type": "markdown",
   "metadata": {},
   "source": [
    "# Visualizations"
   ]
  },
  {
   "cell_type": "code",
   "execution_count": 53,
   "metadata": {},
   "outputs": [
    {
     "data": {
      "image/png": "[encoded data removed]",
      "text/plain": [
       "<Figure size 720x360 with 1 Axes>"
      ]
     },
     "metadata": {
      "needs_background": "light"
     },
     "output_type": "display_data"
    }
   ],
   "source": [
    "get_count_for_date('2019-02-04')"
   ]
  },
  {
   "cell_type": "code",
   "execution_count": 14,
   "metadata": {},
   "outputs": [
    {
     "data": {
      "text/plain": [
       "<matplotlib.axes._subplots.AxesSubplot at 0x114695950>"
      ]
     },
     "execution_count": 14,
     "metadata": {},
     "output_type": "execute_result"
    },
    {
     "data": {
      "image/png": "[encoded data removed]",
      "text/plain": [
       "<matplotlib.figure.Figure at 0x11bca8450>"
      ]
     },
     "metadata": {},
     "output_type": "display_data"
    }
   ],
   "source": [
    "date_df.plot(kind='bar',figsize=(10,5))"
   ]
  },
  {
   "cell_type": "code",
   "execution_count": 15,
   "metadata": {},
   "outputs": [
    {
     "data": {
      "text/plain": [
       "<matplotlib.axes._subplots.AxesSubplot at 0x114695d50>"
      ]
     },
     "execution_count": 15,
     "metadata": {},
     "output_type": "execute_result"
    },
    {
     "data": {
      "image/png": "[encoded data removed]",
      "text/plain": [
       "<matplotlib.figure.Figure at 0x11a7d68d0>"
      ]
     },
     "metadata": {},
     "output_type": "display_data"
    }
   ],
   "source": [
    "week_day_df.plot(kind='bar',figsize=(10,5))"
   ]
  }
 ],
 "metadata": {
  "kernelspec": {
   "display_name": "Python 3",
   "language": "python",
   "name": "python3"
  },
  "language_info": {
   "codemirror_mode": {
    "name": "ipython",
    "version": 3
   },
   "file_extension": ".py",
   "mimetype": "text/x-python",
   "name": "python",
   "nbconvert_exporter": "python",
   "pygments_lexer": "ipython3",
   "version": "3.6.5"
  }
 },
 "nbformat": 4,
 "nbformat_minor": 2
}
