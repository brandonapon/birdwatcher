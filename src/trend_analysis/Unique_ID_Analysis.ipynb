{
 "cells": [
  {
   "cell_type": "code",
   "execution_count": 1,
   "metadata": {},
   "outputs": [],
   "source": [
    "import pandas as pd\n",
    "import matplotlib.pyplot as plt\n",
    "from datetime import datetime\n",
    "from math import sin, cos, sqrt, atan2"
   ]
  },
  {
   "cell_type": "code",
   "execution_count": 2,
   "metadata": {},
   "outputs": [],
   "source": [
    "df = pd.read_csv(\"../../api/bird_unofficial_api/csv_output.csv\")"
   ]
  },
  {
   "cell_type": "code",
   "execution_count": 3,
   "metadata": {},
   "outputs": [],
   "source": [
    "# Preprocessing and adding date columns\n",
    "days = ['mon', 'tue', 'wed', 'thu', 'fri', 'sat', 'sun']\n",
    "df['datetime'] = df['time_stamp'].apply(lambda x: datetime.fromtimestamp(x))\n",
    "df['date_string'] = df['datetime'].apply(lambda x: x.strftime('%Y-%m-%d'))\n",
    "df['week_day'] = df['datetime'].apply(lambda x: days[x.weekday()])"
   ]
  },
  {
   "cell_type": "code",
   "execution_count": 4,
   "metadata": {},
   "outputs": [
    {
     "data": {
      "text/html": [
       "<div>\n",
       "<style scoped>\n",
       "    .dataframe tbody tr th:only-of-type {\n",
       "        vertical-align: middle;\n",
       "    }\n",
       "\n",
       "    .dataframe tbody tr th {\n",
       "        vertical-align: top;\n",
       "    }\n",
       "\n",
       "    .dataframe thead th {\n",
       "        text-align: right;\n",
       "    }\n",
       "</style>\n",
       "<table border=\"1\" class=\"dataframe\">\n",
       "  <thead>\n",
       "    <tr style=\"text-align: right;\">\n",
       "      <th></th>\n",
       "      <th>id</th>\n",
       "      <th>latitude</th>\n",
       "      <th>longitude</th>\n",
       "      <th>battery_level</th>\n",
       "      <th>captive</th>\n",
       "      <th>time_stamp</th>\n",
       "      <th>datetime</th>\n",
       "      <th>date_string</th>\n",
       "      <th>week_day</th>\n",
       "    </tr>\n",
       "  </thead>\n",
       "  <tbody>\n",
       "    <tr>\n",
       "      <th>0</th>\n",
       "      <td>efdcb512-0f67-4f87-91b0-22799c2bf265</td>\n",
       "      <td>34.413010</td>\n",
       "      <td>-119.855355</td>\n",
       "      <td>58</td>\n",
       "      <td>False</td>\n",
       "      <td>1550820003</td>\n",
       "      <td>2019-02-21 23:20:03</td>\n",
       "      <td>2019-02-21</td>\n",
       "      <td>thu</td>\n",
       "    </tr>\n",
       "    <tr>\n",
       "      <th>1</th>\n",
       "      <td>7c2a13b6-3665-4f48-a974-7da3027b1c10</td>\n",
       "      <td>34.413360</td>\n",
       "      <td>-119.856087</td>\n",
       "      <td>49</td>\n",
       "      <td>False</td>\n",
       "      <td>1550820003</td>\n",
       "      <td>2019-02-21 23:20:03</td>\n",
       "      <td>2019-02-21</td>\n",
       "      <td>thu</td>\n",
       "    </tr>\n",
       "    <tr>\n",
       "      <th>2</th>\n",
       "      <td>14552811-dc78-470d-8268-5427383ded9e</td>\n",
       "      <td>34.413730</td>\n",
       "      <td>-119.856170</td>\n",
       "      <td>37</td>\n",
       "      <td>False</td>\n",
       "      <td>1550820003</td>\n",
       "      <td>2019-02-21 23:20:03</td>\n",
       "      <td>2019-02-21</td>\n",
       "      <td>thu</td>\n",
       "    </tr>\n",
       "    <tr>\n",
       "      <th>3</th>\n",
       "      <td>b1e03b0f-a1e0-4801-9096-7dcbba49ed64</td>\n",
       "      <td>34.411740</td>\n",
       "      <td>-119.854775</td>\n",
       "      <td>56</td>\n",
       "      <td>False</td>\n",
       "      <td>1550820003</td>\n",
       "      <td>2019-02-21 23:20:03</td>\n",
       "      <td>2019-02-21</td>\n",
       "      <td>thu</td>\n",
       "    </tr>\n",
       "    <tr>\n",
       "      <th>4</th>\n",
       "      <td>f7fac8a3-b5d8-4421-ada2-c58990525a80</td>\n",
       "      <td>34.413167</td>\n",
       "      <td>-119.857628</td>\n",
       "      <td>69</td>\n",
       "      <td>False</td>\n",
       "      <td>1550820003</td>\n",
       "      <td>2019-02-21 23:20:03</td>\n",
       "      <td>2019-02-21</td>\n",
       "      <td>thu</td>\n",
       "    </tr>\n",
       "  </tbody>\n",
       "</table>\n",
       "</div>"
      ],
      "text/plain": [
       "                                     id   latitude   longitude  battery_level  \\\n",
       "0  efdcb512-0f67-4f87-91b0-22799c2bf265  34.413010 -119.855355             58   \n",
       "1  7c2a13b6-3665-4f48-a974-7da3027b1c10  34.413360 -119.856087             49   \n",
       "2  14552811-dc78-470d-8268-5427383ded9e  34.413730 -119.856170             37   \n",
       "3  b1e03b0f-a1e0-4801-9096-7dcbba49ed64  34.411740 -119.854775             56   \n",
       "4  f7fac8a3-b5d8-4421-ada2-c58990525a80  34.413167 -119.857628             69   \n",
       "\n",
       "   captive  time_stamp            datetime date_string week_day  \n",
       "0    False  1550820003 2019-02-21 23:20:03  2019-02-21      thu  \n",
       "1    False  1550820003 2019-02-21 23:20:03  2019-02-21      thu  \n",
       "2    False  1550820003 2019-02-21 23:20:03  2019-02-21      thu  \n",
       "3    False  1550820003 2019-02-21 23:20:03  2019-02-21      thu  \n",
       "4    False  1550820003 2019-02-21 23:20:03  2019-02-21      thu  "
      ]
     },
     "execution_count": 4,
     "metadata": {},
     "output_type": "execute_result"
    }
   ],
   "source": [
    "df.head()"
   ]
  },
  {
   "cell_type": "code",
   "execution_count": 5,
   "metadata": {},
   "outputs": [
    {
     "data": {
      "text/plain": [
       "array(['2019-02-21', '2019-02-25', '2019-02-06', '2019-02-26',\n",
       "       '2019-02-14', '2019-02-13', '2019-02-28', '2019-02-08',\n",
       "       '2019-02-22', '2019-02-03', '2019-02-15', '2019-02-05',\n",
       "       '2019-02-24', '2019-02-16', '2019-02-19', '2019-02-09',\n",
       "       '2019-02-04', '2019-02-10', '2019-02-20', '2019-02-18',\n",
       "       '2019-02-12', '2019-02-01', '2019-02-27', '2019-02-23',\n",
       "       '2019-01-27', '2019-02-17', '2019-01-25', '2019-02-07',\n",
       "       '2019-01-28', '2019-02-11', '2019-01-24', '2019-03-01'],\n",
       "      dtype=object)"
      ]
     },
     "execution_count": 5,
     "metadata": {},
     "output_type": "execute_result"
    }
   ],
   "source": [
    "df['date_string'].unique()"
   ]
  },
  {
   "cell_type": "code",
   "execution_count": 6,
   "metadata": {},
   "outputs": [
    {
     "data": {
      "text/plain": [
       "2914"
      ]
     },
     "execution_count": 6,
     "metadata": {},
     "output_type": "execute_result"
    }
   ],
   "source": [
    "#Total number of unique birds from ALL data\n",
    "df['id'].nunique()"
   ]
  },
  {
   "cell_type": "code",
   "execution_count": 7,
   "metadata": {},
   "outputs": [
    {
     "data": {
      "text/plain": [
       "<matplotlib.axes._subplots.AxesSubplot at 0x1209b6fd0>"
      ]
     },
     "execution_count": 7,
     "metadata": {},
     "output_type": "execute_result"
    },
    {
     "data": {
      "image/png": "[encoded data removed]",
      "text/plain": [
       "<Figure size 720x360 with 1 Axes>"
      ]
     },
     "metadata": {
      "needs_background": "light"
     },
     "output_type": "display_data"
    }
   ],
   "source": [
    "# Distribution of Unique ID's per day\n",
    "date_df = df.groupby('date_string')['id'].nunique()\n",
    "date_df.plot(kind='bar',figsize=(10,5))"
   ]
  },
  {
   "cell_type": "code",
   "execution_count": null,
   "metadata": {},
   "outputs": [],
   "source": []
  }
 ],
 "metadata": {
  "kernelspec": {
   "display_name": "Python 3",
   "language": "python",
   "name": "python3"
  },
  "language_info": {
   "codemirror_mode": {
    "name": "ipython",
    "version": 3
   },
   "file_extension": ".py",
   "mimetype": "text/x-python",
   "name": "python",
   "nbconvert_exporter": "python",
   "pygments_lexer": "ipython3",
   "version": "3.6.5"
  }
 },
 "nbformat": 4,
 "nbformat_minor": 2
}
